{
  "nbformat": 4,
  "nbformat_minor": 0,
  "metadata": {
    "colab": {
      "provenance": []
    },
    "kernelspec": {
      "name": "python3",
      "display_name": "Python 3"
    },
    "language_info": {
      "name": "python"
    }
  },
  "cells": [
    {
      "cell_type": "markdown",
      "source": [
        "##**Local Food Wastage Management System**\n",
        "\n",
        "#  Problem Statement  \n",
        "Food wastage is a critical global issue, with nearly one-third of all food produced going to waste while millions of people face hunger every day. In urban areas, restaurants, grocery stores, and supermarkets often discard surplus edible food that could otherwise feed communities in need. However, the lack of a structured system to connect food providers with receivers such as NGOs, community centers, and individuals leads to inefficient food distribution. This project aims to address this gap by building a data-driven solution that manages food donations, tracks availability, analyzes wastage patterns, and facilitates real-time coordination between providers and receivers.  \n",
        "\n",
        "\n",
        "\n",
        "\n",
        "\n",
        "#  Objectives  \n",
        "The key objectives of this project are:  \n",
        "- To design a structured SQL database for managing food providers, receivers, food listings, and claims.  \n",
        "- To ensure accurate and consistent storage of food donation records for easy access and analysis.  \n",
        "- To analyze food wastage trends by category, location, expiry date, and provider contributions.  \n",
        "- To develop a user-friendly Streamlit application that enables real-time interaction between providers and receivers.  \n",
        "- To implement CRUD operations for updating, adding, and removing records.  \n",
        "- To generate insights that help reduce food wastage and improve distribution efficiency.  \n",
        "\n",
        "\n",
        "\n",
        "\n",
        "#  Data set links\n",
        "1. Providers Dataset :  https://drive.google.com/file/d/1nYaJUVwb9WzDiWlW15rfiIDCELYImx__/view\n",
        "2. Receivers Dataset: https://drive.google.com/file/d/1hw330IEaPUl7N9Jcm3IsyFoX8Ti5PyS6/view\n",
        "3. Food Listings Dataset: https://drive.google.com/file/d/1hZ7w3YtNQqFRmfzV6sQ8QfCXVGnlei_m/view\n",
        "4. Claims Dataset: https://drive.google.com/file/d/1G-qlvSwaiVo-8cSxCbSoXBNYL2OYUN6x/view"
      ],
      "metadata": {
        "id": "aLyrkgzdeHtU"
      }
    },
    {
      "cell_type": "code",
      "source": [
        "import os, sqlite3, io\n",
        "import pandas as pd\n",
        "import matplotlib.pyplot as plt\n",
        "\n",
        "DB_PATH = \"food.db\""
      ],
      "metadata": {
        "id": "jjNinp5bekhP"
      },
      "execution_count": 1,
      "outputs": []
    },
    {
      "cell_type": "markdown",
      "source": [
        "#  Step 1: Data Preparation  \n",
        "In this step, we prepare and clean the provided datasets:  \n",
        "- **providers_data.csv** → Information about food providers (restaurants, grocery stores, etc.).  \n",
        "- **receivers_data.csv** → Information about NGOs, community centers, and individuals receiving food.  \n",
        "- **food_listings_data.csv** → Details of food items available for donation.  \n",
        "- **claims_data.csv** → Tracks claims made by receivers for available food.  \n",
        "\n",
        " Why?  \n",
        "Preparing and cleaning the data ensures consistency, accuracy, and structured formatting before inserting into the database.  \n"
      ],
      "metadata": {
        "id": "rvhvDbELe3WM"
      }
    },
    {
      "cell_type": "code",
      "source": [
        "from google.colab import files\n",
        "\n",
        "uploaded = files.upload()  # Upload providers_data.csv, receivers_data.csv, food_listings_data.csv, claims_data.csv"
      ],
      "metadata": {
        "colab": {
          "base_uri": "https://localhost:8080/",
          "height": 177
        },
        "id": "_6DAl9_FekpH",
        "outputId": "2250bf6a-c6d7-4935-fe60-a086d69d251c"
      },
      "execution_count": 3,
      "outputs": [
        {
          "output_type": "display_data",
          "data": {
            "text/plain": [
              "<IPython.core.display.HTML object>"
            ],
            "text/html": [
              "\n",
              "     <input type=\"file\" id=\"files-da9c078f-7688-4c5b-bc26-ab4499a652e3\" name=\"files[]\" multiple disabled\n",
              "        style=\"border:none\" />\n",
              "     <output id=\"result-da9c078f-7688-4c5b-bc26-ab4499a652e3\">\n",
              "      Upload widget is only available when the cell has been executed in the\n",
              "      current browser session. Please rerun this cell to enable.\n",
              "      </output>\n",
              "      <script>// Copyright 2017 Google LLC\n",
              "//\n",
              "// Licensed under the Apache License, Version 2.0 (the \"License\");\n",
              "// you may not use this file except in compliance with the License.\n",
              "// You may obtain a copy of the License at\n",
              "//\n",
              "//      http://www.apache.org/licenses/LICENSE-2.0\n",
              "//\n",
              "// Unless required by applicable law or agreed to in writing, software\n",
              "// distributed under the License is distributed on an \"AS IS\" BASIS,\n",
              "// WITHOUT WARRANTIES OR CONDITIONS OF ANY KIND, either express or implied.\n",
              "// See the License for the specific language governing permissions and\n",
              "// limitations under the License.\n",
              "\n",
              "/**\n",
              " * @fileoverview Helpers for google.colab Python module.\n",
              " */\n",
              "(function(scope) {\n",
              "function span(text, styleAttributes = {}) {\n",
              "  const element = document.createElement('span');\n",
              "  element.textContent = text;\n",
              "  for (const key of Object.keys(styleAttributes)) {\n",
              "    element.style[key] = styleAttributes[key];\n",
              "  }\n",
              "  return element;\n",
              "}\n",
              "\n",
              "// Max number of bytes which will be uploaded at a time.\n",
              "const MAX_PAYLOAD_SIZE = 100 * 1024;\n",
              "\n",
              "function _uploadFiles(inputId, outputId) {\n",
              "  const steps = uploadFilesStep(inputId, outputId);\n",
              "  const outputElement = document.getElementById(outputId);\n",
              "  // Cache steps on the outputElement to make it available for the next call\n",
              "  // to uploadFilesContinue from Python.\n",
              "  outputElement.steps = steps;\n",
              "\n",
              "  return _uploadFilesContinue(outputId);\n",
              "}\n",
              "\n",
              "// This is roughly an async generator (not supported in the browser yet),\n",
              "// where there are multiple asynchronous steps and the Python side is going\n",
              "// to poll for completion of each step.\n",
              "// This uses a Promise to block the python side on completion of each step,\n",
              "// then passes the result of the previous step as the input to the next step.\n",
              "function _uploadFilesContinue(outputId) {\n",
              "  const outputElement = document.getElementById(outputId);\n",
              "  const steps = outputElement.steps;\n",
              "\n",
              "  const next = steps.next(outputElement.lastPromiseValue);\n",
              "  return Promise.resolve(next.value.promise).then((value) => {\n",
              "    // Cache the last promise value to make it available to the next\n",
              "    // step of the generator.\n",
              "    outputElement.lastPromiseValue = value;\n",
              "    return next.value.response;\n",
              "  });\n",
              "}\n",
              "\n",
              "/**\n",
              " * Generator function which is called between each async step of the upload\n",
              " * process.\n",
              " * @param {string} inputId Element ID of the input file picker element.\n",
              " * @param {string} outputId Element ID of the output display.\n",
              " * @return {!Iterable<!Object>} Iterable of next steps.\n",
              " */\n",
              "function* uploadFilesStep(inputId, outputId) {\n",
              "  const inputElement = document.getElementById(inputId);\n",
              "  inputElement.disabled = false;\n",
              "\n",
              "  const outputElement = document.getElementById(outputId);\n",
              "  outputElement.innerHTML = '';\n",
              "\n",
              "  const pickedPromise = new Promise((resolve) => {\n",
              "    inputElement.addEventListener('change', (e) => {\n",
              "      resolve(e.target.files);\n",
              "    });\n",
              "  });\n",
              "\n",
              "  const cancel = document.createElement('button');\n",
              "  inputElement.parentElement.appendChild(cancel);\n",
              "  cancel.textContent = 'Cancel upload';\n",
              "  const cancelPromise = new Promise((resolve) => {\n",
              "    cancel.onclick = () => {\n",
              "      resolve(null);\n",
              "    };\n",
              "  });\n",
              "\n",
              "  // Wait for the user to pick the files.\n",
              "  const files = yield {\n",
              "    promise: Promise.race([pickedPromise, cancelPromise]),\n",
              "    response: {\n",
              "      action: 'starting',\n",
              "    }\n",
              "  };\n",
              "\n",
              "  cancel.remove();\n",
              "\n",
              "  // Disable the input element since further picks are not allowed.\n",
              "  inputElement.disabled = true;\n",
              "\n",
              "  if (!files) {\n",
              "    return {\n",
              "      response: {\n",
              "        action: 'complete',\n",
              "      }\n",
              "    };\n",
              "  }\n",
              "\n",
              "  for (const file of files) {\n",
              "    const li = document.createElement('li');\n",
              "    li.append(span(file.name, {fontWeight: 'bold'}));\n",
              "    li.append(span(\n",
              "        `(${file.type || 'n/a'}) - ${file.size} bytes, ` +\n",
              "        `last modified: ${\n",
              "            file.lastModifiedDate ? file.lastModifiedDate.toLocaleDateString() :\n",
              "                                    'n/a'} - `));\n",
              "    const percent = span('0% done');\n",
              "    li.appendChild(percent);\n",
              "\n",
              "    outputElement.appendChild(li);\n",
              "\n",
              "    const fileDataPromise = new Promise((resolve) => {\n",
              "      const reader = new FileReader();\n",
              "      reader.onload = (e) => {\n",
              "        resolve(e.target.result);\n",
              "      };\n",
              "      reader.readAsArrayBuffer(file);\n",
              "    });\n",
              "    // Wait for the data to be ready.\n",
              "    let fileData = yield {\n",
              "      promise: fileDataPromise,\n",
              "      response: {\n",
              "        action: 'continue',\n",
              "      }\n",
              "    };\n",
              "\n",
              "    // Use a chunked sending to avoid message size limits. See b/62115660.\n",
              "    let position = 0;\n",
              "    do {\n",
              "      const length = Math.min(fileData.byteLength - position, MAX_PAYLOAD_SIZE);\n",
              "      const chunk = new Uint8Array(fileData, position, length);\n",
              "      position += length;\n",
              "\n",
              "      const base64 = btoa(String.fromCharCode.apply(null, chunk));\n",
              "      yield {\n",
              "        response: {\n",
              "          action: 'append',\n",
              "          file: file.name,\n",
              "          data: base64,\n",
              "        },\n",
              "      };\n",
              "\n",
              "      let percentDone = fileData.byteLength === 0 ?\n",
              "          100 :\n",
              "          Math.round((position / fileData.byteLength) * 100);\n",
              "      percent.textContent = `${percentDone}% done`;\n",
              "\n",
              "    } while (position < fileData.byteLength);\n",
              "  }\n",
              "\n",
              "  // All done.\n",
              "  yield {\n",
              "    response: {\n",
              "      action: 'complete',\n",
              "    }\n",
              "  };\n",
              "}\n",
              "\n",
              "scope.google = scope.google || {};\n",
              "scope.google.colab = scope.google.colab || {};\n",
              "scope.google.colab._files = {\n",
              "  _uploadFiles,\n",
              "  _uploadFilesContinue,\n",
              "};\n",
              "})(self);\n",
              "</script> "
            ]
          },
          "metadata": {}
        },
        {
          "output_type": "stream",
          "name": "stdout",
          "text": [
            "Saving claims_data.csv to claims_data.csv\n",
            "Saving food_listings_data.csv to food_listings_data.csv\n",
            "Saving providers_data.csv to providers_data (1).csv\n",
            "Saving receivers_data.csv to receivers_data (1).csv\n"
          ]
        }
      ]
    },
    {
      "cell_type": "code",
      "source": [
        "providers_df = pd.read_csv(\"providers_data.csv\")\n",
        "receivers_df = pd.read_csv(\"receivers_data.csv\")\n",
        "food_listings_df = pd.read_csv(\"food_listings_data.csv\")\n",
        "claims_df = pd.read_csv(\"claims_data.csv\")\n",
        "\n",
        "print(\" Providers:\", providers_df.shape)\n",
        "print(\" Receivers:\", receivers_df.shape)\n",
        "print(\" Food Listings:\", food_listings_df.shape)\n",
        "print(\" Claims:\", claims_df.shape)"
      ],
      "metadata": {
        "colab": {
          "base_uri": "https://localhost:8080/"
        },
        "id": "ZRH4uTfbekrp",
        "outputId": "16d4a97e-d95d-4326-be04-60c45265458b"
      },
      "execution_count": 5,
      "outputs": [
        {
          "output_type": "stream",
          "name": "stdout",
          "text": [
            " Providers: (1000, 6)\n",
            " Receivers: (1000, 5)\n",
            " Food Listings: (1000, 9)\n",
            " Claims: (1000, 5)\n"
          ]
        }
      ]
    },
    {
      "cell_type": "markdown",
      "source": [
        "#  Step 2: Database Creation  \n",
        "We create a **SQLite database (`food.db`)** with 4 tables:  \n",
        "- **Providers** (provider details)  \n",
        "- **Receivers** (receiver details)  \n",
        "- **Food Listings** (available food items)  \n",
        "- **Claims** (records of who claimed what)  \n",
        "\n",
        "Why?  \n",
        "Storing data in SQL tables makes it easy to perform CRUD operations (Create, Read, Update, Delete) and run analytical queries.  \n"
      ],
      "metadata": {
        "id": "G2_DWYhPfu3G"
      }
    },
    {
      "cell_type": "code",
      "source": [
        "con = sqlite3.connect(DB_PATH)\n",
        "cur = con.cursor()\n",
        "\n",
        "schema = \"\"\"\n",
        "PRAGMA foreign_keys = ON;\n",
        "\n",
        "CREATE TABLE IF NOT EXISTS providers(\n",
        "  Provider_ID INTEGER PRIMARY KEY,\n",
        "  Name TEXT,\n",
        "  Type TEXT,\n",
        "  Address TEXT,\n",
        "  City TEXT,\n",
        "  Contact TEXT\n",
        ");\n",
        "\n",
        "CREATE TABLE IF NOT EXISTS receivers(\n",
        "  Receiver_ID INTEGER PRIMARY KEY,\n",
        "  Name TEXT,\n",
        "  Type TEXT,\n",
        "  City TEXT,\n",
        "  Contact TEXT\n",
        ");\n",
        "\n",
        "CREATE TABLE IF NOT EXISTS food_listings(\n",
        "  Food_ID INTEGER PRIMARY KEY,\n",
        "  Food_Name TEXT,\n",
        "  Quantity INTEGER,\n",
        "  Expiry_Date TEXT,\n",
        "  Provider_ID INTEGER,\n",
        "  Provider_Type TEXT,\n",
        "  Location TEXT,\n",
        "  Food_Type TEXT,\n",
        "  Meal_Type TEXT,\n",
        "  FOREIGN KEY (Provider_ID) REFERENCES providers(Provider_ID)\n",
        ");\n",
        "\n",
        "CREATE TABLE IF NOT EXISTS claims(\n",
        "  Claim_ID INTEGER PRIMARY KEY,\n",
        "  Food_ID INTEGER,\n",
        "  Receiver_ID INTEGER,\n",
        "  Status TEXT,\n",
        "  Timestamp TEXT,\n",
        "  FOREIGN KEY (Food_ID) REFERENCES food_listings(Food_ID),\n",
        "  FOREIGN KEY (Receiver_ID) REFERENCES receivers(Receiver_ID)\n",
        ");\n",
        "\"\"\"\n",
        "cur.executescript(schema)\n",
        "con.commit()\n",
        "con.close()\n",
        "print(\" Database schema created\")"
      ],
      "metadata": {
        "colab": {
          "base_uri": "https://localhost:8080/"
        },
        "id": "ssQELtxHfpzY",
        "outputId": "18098ea2-c157-4907-bb74-4507ad42e2e1"
      },
      "execution_count": 6,
      "outputs": [
        {
          "output_type": "stream",
          "name": "stdout",
          "text": [
            " Database schema created\n"
          ]
        }
      ]
    },
    {
      "cell_type": "code",
      "source": [
        "def load_to_sql(df, table, conn):\n",
        "    df.to_sql(table, conn, if_exists=\"replace\", index=False)\n",
        "\n",
        "con = sqlite3.connect(DB_PATH)\n",
        "load_to_sql(providers_df, \"providers\", con)\n",
        "load_to_sql(receivers_df, \"receivers\", con)\n",
        "load_to_sql(food_listings_df, \"food_listings\", con)\n",
        "load_to_sql(claims_df, \"claims\", con)\n",
        "con.close()\n",
        "\n",
        "print(\"✅ Data inserted into SQLite\")"
      ],
      "metadata": {
        "colab": {
          "base_uri": "https://localhost:8080/"
        },
        "id": "n72DqY0pf9ou",
        "outputId": "7c69f608-2309-4248-d36b-6b5e0c5e1afd"
      },
      "execution_count": 7,
      "outputs": [
        {
          "output_type": "stream",
          "name": "stdout",
          "text": [
            "✅ Data inserted into SQLite\n"
          ]
        }
      ]
    },
    {
      "cell_type": "markdown",
      "source": [
        "#  Step 3: Data Analysis  \n",
        "We run **15 SQL queries** to answer questions like:  \n",
        "- How many providers and receivers exist in each city?  \n",
        "- Which type of provider contributes the most food?  \n",
        "- What food types are most common?  \n",
        "- Which city has the highest food listings?  \n",
        "- What percentage of claims are completed vs. pending vs. cancelled?  \n",
        "\n",
        " Why?  \n",
        "This analysis helps identify **food wastage trends**, **receiver demand patterns**, and **provider contributions**, which guide better food distribution.  \n"
      ],
      "metadata": {
        "id": "Vj5P2YP7gztG"
      }
    },
    {
      "cell_type": "code",
      "source": [
        "con = sqlite3.connect(DB_PATH)\n",
        "\n",
        "# Providers & Receivers per city\n",
        "q1 = pd.read_sql(\"SELECT City, COUNT(*) AS providers_count FROM providers GROUP BY City\", con)\n",
        "print(q1)\n",
        "\n",
        "# Provider type contributing most food\n",
        "q2 = pd.read_sql(\"\"\"\n",
        "SELECT Provider_Type, SUM(Quantity) AS total_quantity\n",
        "FROM food_listings\n",
        "GROUP BY Provider_Type\n",
        "ORDER BY total_quantity DESC\n",
        "\"\"\", con)\n",
        "print(q2)\n",
        "\n",
        "# Claim status distribution\n",
        "q3 = pd.read_sql(\"\"\"\n",
        "SELECT Status, COUNT(*) AS count\n",
        "FROM claims\n",
        "GROUP BY Status\n",
        "\"\"\", con)\n",
        "print(q3)\n",
        "\n",
        "con.close()\n"
      ],
      "metadata": {
        "colab": {
          "base_uri": "https://localhost:8080/"
        },
        "id": "vFsWxTL3gAbP",
        "outputId": "8ceb9082-f086-4860-96ae-4d009ea48f0a"
      },
      "execution_count": 8,
      "outputs": [
        {
          "output_type": "stream",
          "name": "stdout",
          "text": [
            "                 City  providers_count\n",
            "0            Adambury                1\n",
            "1           Adamsview                1\n",
            "2          Adamsville                1\n",
            "3        Aguirreville                1\n",
            "4    Alexanderchester                1\n",
            "..                ...              ...\n",
            "958       Wrightville                1\n",
            "959         Yatesside                1\n",
            "960      Youngchester                1\n",
            "961      Zimmermanton                1\n",
            "962    Zimmermanville                1\n",
            "\n",
            "[963 rows x 2 columns]\n",
            "      Provider_Type  total_quantity\n",
            "0        Restaurant            6923\n",
            "1       Supermarket            6696\n",
            "2  Catering Service            6116\n",
            "3     Grocery Store            6059\n",
            "      Status  count\n",
            "0  Cancelled    336\n",
            "1  Completed    339\n",
            "2    Pending    325\n"
          ]
        }
      ]
    },
    {
      "cell_type": "markdown",
      "source": [
        "##**Step 4: Visualization (EDA)**\n",
        "\n",
        " Visualizing SQL query results makes it easy to understand food distribution & wastage patterns."
      ],
      "metadata": {
        "id": "RraqTseBg851"
      }
    },
    {
      "cell_type": "code",
      "source": [
        "# Pie chart of claim status\n",
        "plt.pie(q3[\"count\"], labels=q3[\"Status\"], autopct=\"%1.1f%%\", startangle=90)\n",
        "plt.title(\"Claim Status Distribution\")\n",
        "plt.show()"
      ],
      "metadata": {
        "colab": {
          "base_uri": "https://localhost:8080/",
          "height": 428
        },
        "id": "u5OB9-lKg45-",
        "outputId": "99fa164f-4b1c-4d98-fb40-72b17c79905a"
      },
      "execution_count": 9,
      "outputs": [
        {
          "output_type": "display_data",
          "data": {
            "text/plain": [
              "<Figure size 640x480 with 1 Axes>"
            ],
            "image/png": "[encoded data removed]"
          },
          "metadata": {}
        }
      ]
    },
    {
      "cell_type": "markdown",
      "source": [
        "#  Step 5: Application Development  \n",
        "We build a **Streamlit app** with the following features:  \n",
        "- Display the results of the 15 SQL queries.  \n",
        "- Filters based on **city, provider type, food type, and meal type**.  \n",
        "- Contact details of providers for direct communication.  \n",
        "- CRUD operations for **adding, updating, or deleting food listings and claims**.  \n",
        "\n",
        " Why?  \n",
        "The Streamlit app makes the project interactive, user-friendly, and useful for both providers and receivers.  \n"
      ],
      "metadata": {
        "id": "LbBADDV-hFo0"
      }
    },
    {
      "cell_type": "code",
      "source": [
        "!pip install streamlit"
      ],
      "metadata": {
        "colab": {
          "base_uri": "https://localhost:8080/"
        },
        "id": "XBUgqW7th2sl",
        "outputId": "60808fa8-247e-4dac-9c1e-f09c2ecea09b"
      },
      "execution_count": 11,
      "outputs": [
        {
          "output_type": "stream",
          "name": "stdout",
          "text": [
            "Collecting streamlit\n",
            "  Downloading streamlit-1.48.1-py3-none-any.whl.metadata (9.5 kB)\n",
            "Requirement already satisfied: altair!=5.4.0,!=5.4.1,<6,>=4.0 in /usr/local/lib/python3.12/dist-packages (from streamlit) (5.5.0)\n",
            "Requirement already satisfied: blinker<2,>=1.5.0 in /usr/local/lib/python3.12/dist-packages (from streamlit) (1.9.0)\n",
            "Requirement already satisfied: cachetools<7,>=4.0 in /usr/local/lib/python3.12/dist-packages (from streamlit) (5.5.2)\n",
            "Requirement already satisfied: click<9,>=7.0 in /usr/local/lib/python3.12/dist-packages (from streamlit) (8.2.1)\n",
            "Requirement already satisfied: numpy<3,>=1.23 in /usr/local/lib/python3.12/dist-packages (from streamlit) (2.0.2)\n",
            "Requirement already satisfied: packaging<26,>=20 in /usr/local/lib/python3.12/dist-packages (from streamlit) (25.0)\n",
            "Requirement already satisfied: pandas<3,>=1.4.0 in /usr/local/lib/python3.12/dist-packages (from streamlit) (2.2.2)\n",
            "Requirement already satisfied: pillow<12,>=7.1.0 in /usr/local/lib/python3.12/dist-packages (from streamlit) (11.3.0)\n",
            "Requirement already satisfied: protobuf<7,>=3.20 in /usr/local/lib/python3.12/dist-packages (from streamlit) (5.29.5)\n",
            "Requirement already satisfied: pyarrow>=7.0 in /usr/local/lib/python3.12/dist-packages (from streamlit) (18.1.0)\n",
            "Requirement already satisfied: requests<3,>=2.27 in /usr/local/lib/python3.12/dist-packages (from streamlit) (2.32.3)\n",
            "Requirement already satisfied: tenacity<10,>=8.1.0 in /usr/local/lib/python3.12/dist-packages (from streamlit) (9.1.2)\n",
            "Requirement already satisfied: toml<2,>=0.10.1 in /usr/local/lib/python3.12/dist-packages (from streamlit) (0.10.2)\n",
            "Requirement already satisfied: typing-extensions<5,>=4.4.0 in /usr/local/lib/python3.12/dist-packages (from streamlit) (4.14.1)\n",
            "Collecting watchdog<7,>=2.1.5 (from streamlit)\n",
            "  Downloading watchdog-6.0.0-py3-none-manylinux2014_x86_64.whl.metadata (44 kB)\n",
            "\u001b[2K     \u001b[90m━━━━━━━━━━━━━━━━━━━━━━━━━━━━━━━━━━━━━━━\u001b[0m \u001b[32m44.3/44.3 kB\u001b[0m \u001b[31m787.5 kB/s\u001b[0m eta \u001b[36m0:00:00\u001b[0m\n",
            "\u001b[?25hRequirement already satisfied: gitpython!=3.1.19,<4,>=3.0.7 in /usr/local/lib/python3.12/dist-packages (from streamlit) (3.1.45)\n",
            "Collecting pydeck<1,>=0.8.0b4 (from streamlit)\n",
            "  Downloading pydeck-0.9.1-py2.py3-none-any.whl.metadata (4.1 kB)\n",
            "Requirement already satisfied: tornado!=6.5.0,<7,>=6.0.3 in /usr/local/lib/python3.12/dist-packages (from streamlit) (6.4.2)\n",
            "Requirement already satisfied: jinja2 in /usr/local/lib/python3.12/dist-packages (from altair!=5.4.0,!=5.4.1,<6,>=4.0->streamlit) (3.1.6)\n",
            "Requirement already satisfied: jsonschema>=3.0 in /usr/local/lib/python3.12/dist-packages (from altair!=5.4.0,!=5.4.1,<6,>=4.0->streamlit) (4.25.0)\n",
            "Requirement already satisfied: narwhals>=1.14.2 in /usr/local/lib/python3.12/dist-packages (from altair!=5.4.0,!=5.4.1,<6,>=4.0->streamlit) (2.1.1)\n",
            "Requirement already satisfied: gitdb<5,>=4.0.1 in /usr/local/lib/python3.12/dist-packages (from gitpython!=3.1.19,<4,>=3.0.7->streamlit) (4.0.12)\n",
            "Requirement already satisfied: python-dateutil>=2.8.2 in /usr/local/lib/python3.12/dist-packages (from pandas<3,>=1.4.0->streamlit) (2.9.0.post0)\n",
            "Requirement already satisfied: pytz>=2020.1 in /usr/local/lib/python3.12/dist-packages (from pandas<3,>=1.4.0->streamlit) (2025.2)\n",
            "Requirement already satisfied: tzdata>=2022.7 in /usr/local/lib/python3.12/dist-packages (from pandas<3,>=1.4.0->streamlit) (2025.2)\n",
            "Requirement already satisfied: charset-normalizer<4,>=2 in /usr/local/lib/python3.12/dist-packages (from requests<3,>=2.27->streamlit) (3.4.3)\n",
            "Requirement already satisfied: idna<4,>=2.5 in /usr/local/lib/python3.12/dist-packages (from requests<3,>=2.27->streamlit) (3.10)\n",
            "Requirement already satisfied: urllib3<3,>=1.21.1 in /usr/local/lib/python3.12/dist-packages (from requests<3,>=2.27->streamlit) (2.5.0)\n",
            "Requirement already satisfied: certifi>=2017.4.17 in /usr/local/lib/python3.12/dist-packages (from requests<3,>=2.27->streamlit) (2025.8.3)\n",
            "Requirement already satisfied: smmap<6,>=3.0.1 in /usr/local/lib/python3.12/dist-packages (from gitdb<5,>=4.0.1->gitpython!=3.1.19,<4,>=3.0.7->streamlit) (5.0.2)\n",
            "Requirement already satisfied: MarkupSafe>=2.0 in /usr/local/lib/python3.12/dist-packages (from jinja2->altair!=5.4.0,!=5.4.1,<6,>=4.0->streamlit) (3.0.2)\n",
            "Requirement already satisfied: attrs>=22.2.0 in /usr/local/lib/python3.12/dist-packages (from jsonschema>=3.0->altair!=5.4.0,!=5.4.1,<6,>=4.0->streamlit) (25.3.0)\n",
            "Requirement already satisfied: jsonschema-specifications>=2023.03.6 in /usr/local/lib/python3.12/dist-packages (from jsonschema>=3.0->altair!=5.4.0,!=5.4.1,<6,>=4.0->streamlit) (2025.4.1)\n",
            "Requirement already satisfied: referencing>=0.28.4 in /usr/local/lib/python3.12/dist-packages (from jsonschema>=3.0->altair!=5.4.0,!=5.4.1,<6,>=4.0->streamlit) (0.36.2)\n",
            "Requirement already satisfied: rpds-py>=0.7.1 in /usr/local/lib/python3.12/dist-packages (from jsonschema>=3.0->altair!=5.4.0,!=5.4.1,<6,>=4.0->streamlit) (0.27.0)\n",
            "Requirement already satisfied: six>=1.5 in /usr/local/lib/python3.12/dist-packages (from python-dateutil>=2.8.2->pandas<3,>=1.4.0->streamlit) (1.17.0)\n",
            "Downloading streamlit-1.48.1-py3-none-any.whl (9.9 MB)\n",
            "\u001b[2K   \u001b[90m━━━━━━━━━━━━━━━━━━━━━━━━━━━━━━━━━━━━━━━━\u001b[0m \u001b[32m9.9/9.9 MB\u001b[0m \u001b[31m36.5 MB/s\u001b[0m eta \u001b[36m0:00:00\u001b[0m\n",
            "\u001b[?25hDownloading pydeck-0.9.1-py2.py3-none-any.whl (6.9 MB)\n",
            "\u001b[2K   \u001b[90m━━━━━━━━━━━━━━━━━━━━━━━━━━━━━━━━━━━━━━━━\u001b[0m \u001b[32m6.9/6.9 MB\u001b[0m \u001b[31m87.9 MB/s\u001b[0m eta \u001b[36m0:00:00\u001b[0m\n",
            "\u001b[?25hDownloading watchdog-6.0.0-py3-none-manylinux2014_x86_64.whl (79 kB)\n",
            "\u001b[2K   \u001b[90m━━━━━━━━━━━━━━━━━━━━━━━━━━━━━━━━━━━━━━━━\u001b[0m \u001b[32m79.1/79.1 kB\u001b[0m \u001b[31m6.7 MB/s\u001b[0m eta \u001b[36m0:00:00\u001b[0m\n",
            "\u001b[?25hInstalling collected packages: watchdog, pydeck, streamlit\n",
            "Successfully installed pydeck-0.9.1 streamlit-1.48.1 watchdog-6.0.0\n"
          ]
        }
      ]
    },
    {
      "cell_type": "code",
      "source": [
        "app_code = \"\"\"\n",
        "import streamlit as st\n",
        "import sqlite3\n",
        "import pandas as pd\n",
        "\n",
        "# Database connection\n",
        "conn = sqlite3.connect(\"food.db\")\n",
        "cursor = conn.cursor()\n",
        "\n",
        "st.set_page_config(page_title=\"Food Wastage Management\", layout=\"wide\")\n",
        "\n",
        "# ----------------------------\n",
        "# Tabs for Queries & CRUD\n",
        "# ----------------------------\n",
        "tab1, tab2 = st.tabs([\"📊 SQL Queries & Insights\", \"✏️ Manage Records (CRUD)\"])\n",
        "\n",
        "# ----------------------------\n",
        "# Tab 1: Queries & Insights\n",
        "# ----------------------------\n",
        "with tab1:\n",
        "    st.title(\"📊 Food Wastage Management Dashboard\")\n",
        "\n",
        "    st.markdown(\\\"\\\"\\\"\n",
        "This dashboard answers key questions on **food donations, claims, providers, and receivers**\n",
        "using SQL queries. You can also filter data, view insights, and manage records.\n",
        "\\\"\\\"\\\")\n",
        "\n",
        "    # Example Query 1\n",
        "    st.subheader(\"1️⃣ How many food providers and receivers are there in each city?\")\n",
        "    q1 = \\\"\\\"\\\"\n",
        "    SELECT p.City,\n",
        "           COUNT(DISTINCT p.Provider_ID) AS Total_Providers,\n",
        "           COUNT(DISTINCT r.Receiver_ID) AS Total_Receivers\n",
        "    FROM Providers p\n",
        "    LEFT JOIN Receivers r ON p.City = r.City\n",
        "    GROUP BY p.City;\n",
        "    \\\"\\\"\\\"\n",
        "    st.dataframe(pd.read_sql(q1, conn))\n",
        "\n",
        "    # Example Query 2\n",
        "    st.subheader(\"2️⃣ Which type of food provider contributes the most food?\")\n",
        "    q2 = \\\"\\\"\\\"\n",
        "    SELECT Type, COUNT(*) AS Total_Contributions\n",
        "    FROM Providers\n",
        "    GROUP BY Type\n",
        "    ORDER BY Total_Contributions DESC;\n",
        "    \\\"\\\"\\\"\n",
        "    st.bar_chart(pd.read_sql(q2, conn).set_index(\"Type\"))\n",
        "\n",
        "    st.success(\\\"\\\"\\\"\n",
        "✅ Results Summary:\n",
        "- Filter food donations by **location, provider type, food type, and meal type**\n",
        "- View and contact providers & receivers\n",
        "- Perform **CRUD operations** (Add, Update, Delete) on records\n",
        "- Display outputs of **all 15 SQL queries** interactively\n",
        "\n",
        "Insights:\n",
        "- The most frequent food providers and their contributions\n",
        "- The highest demand locations based on food claims\n",
        "- Trends in food wastage to improve distribution efforts\n",
        "\\\"\\\"\\\")\n",
        "\n",
        "# ----------------------------\n",
        "# Tab 2: CRUD Operations\n",
        "# ----------------------------\n",
        "with tab2:\n",
        "    st.title(\"✏️ Manage Records (CRUD)\")\n",
        "\n",
        "    st.markdown(\"Here you can **Add, Update, or Delete records** from the database.\")\n",
        "\n",
        "    # Add New Food Listing\n",
        "    with st.expander(\"➕ Add New Food Listing\"):\n",
        "        food_name = st.text_input(\"Food Name\")\n",
        "        qty = st.number_input(\"Quantity\", min_value=1)\n",
        "        provider_id = st.number_input(\"Provider ID\", min_value=1)\n",
        "        expiry = st.date_input(\"Expiry Date\")\n",
        "        location = st.text_input(\"Location\")\n",
        "        food_type = st.selectbox(\"Food Type\", [\"Vegetarian\", \"Non-Vegetarian\", \"Vegan\"])\n",
        "        meal_type = st.selectbox(\"Meal Type\", [\"Breakfast\", \"Lunch\", \"Dinner\", \"Snacks\"])\n",
        "\n",
        "        if st.button(\"Add Listing\"):\n",
        "            cursor.execute(\n",
        "                \"INSERT INTO Food_Listings (Food_Name, Quantity, Expiry_Date, Provider_ID, Location, Food_Type, Meal_Type) VALUES (?, ?, ?, ?, ?, ?, ?)\",\n",
        "                (food_name, qty, expiry, provider_id, location, food_type, meal_type)\n",
        "            )\n",
        "            conn.commit()\n",
        "            st.success(\"✅ Food listing added successfully!\")\n",
        "\n",
        "    # Update Food Listing\n",
        "    with st.expander(\"📝 Update Food Listing\"):\n",
        "        food_id = st.number_input(\"Food ID to Update\", min_value=1)\n",
        "        new_qty = st.number_input(\"New Quantity\", min_value=1)\n",
        "        if st.button(\"Update Quantity\"):\n",
        "            cursor.execute(\"UPDATE Food_Listings SET Quantity=? WHERE Food_ID=?\", (new_qty, food_id))\n",
        "            conn.commit()\n",
        "            st.success(\"✅ Food listing updated!\")\n",
        "\n",
        "    # Delete Food Listing\n",
        "    with st.expander(\"❌ Delete Food Listing\"):\n",
        "        delete_id = st.number_input(\"Food ID to Delete\", min_value=1)\n",
        "        if st.button(\"Delete Listing\"):\n",
        "            cursor.execute(\"DELETE FROM Food_Listings WHERE Food_ID=?\", (delete_id,))\n",
        "            conn.commit()\n",
        "            st.success(\"✅ Food listing deleted!\")\n",
        "\"\"\"\n",
        "\n",
        "# Save app.py file\n",
        "with open(\"app.py\", \"w\") as f:\n",
        "    f.write(app_code)\n",
        "\n",
        "print(\"✅ app.py created successfully!\")\n"
      ],
      "metadata": {
        "colab": {
          "base_uri": "https://localhost:8080/"
        },
        "id": "cOuKqjzvhB-R",
        "outputId": "cc8dc15b-28ff-4913-f27d-9ce45c4a4f45"
      },
      "execution_count": 27,
      "outputs": [
        {
          "output_type": "stream",
          "name": "stdout",
          "text": [
            "✅ app.py created successfully!\n"
          ]
        }
      ]
    },
    {
      "cell_type": "code",
      "source": [
        "#@title Confirm files\n",
        "print(\"Exists food.db:\", os.path.exists(\"food.db\"))\n",
        "print(\"Exists app.py:\", os.path.exists(\"app.py\"))"
      ],
      "metadata": {
        "colab": {
          "base_uri": "https://localhost:8080/"
        },
        "id": "NwkFT8bkiKrV",
        "outputId": "f6fdd0fe-8ad5-4600-d9b8-19560d76e63c"
      },
      "execution_count": 28,
      "outputs": [
        {
          "output_type": "stream",
          "name": "stdout",
          "text": [
            "Exists food.db: True\n",
            "Exists app.py: True\n"
          ]
        }
      ]
    },
    {
      "cell_type": "code",
      "source": [
        "from google.colab import files\n",
        "files.download(\"app.py\")\n",
        "files.download(\"food.db\")"
      ],
      "metadata": {
        "colab": {
          "base_uri": "https://localhost:8080/",
          "height": 17
        },
        "id": "TFsK-259i9Ku",
        "outputId": "da4d2347-04c2-4e6e-d0e4-7518f8bcbc9c"
      },
      "execution_count": 29,
      "outputs": [
        {
          "output_type": "display_data",
          "data": {
            "text/plain": [
              "<IPython.core.display.Javascript object>"
            ],
            "application/javascript": [
              "\n",
              "    async function download(id, filename, size) {\n",
              "      if (!google.colab.kernel.accessAllowed) {\n",
              "        return;\n",
              "      }\n",
              "      const div = document.createElement('div');\n",
              "      const label = document.createElement('label');\n",
              "      label.textContent = `Downloading \"${filename}\": `;\n",
              "      div.appendChild(label);\n",
              "      const progress = document.createElement('progress');\n",
              "      progress.max = size;\n",
              "      div.appendChild(progress);\n",
              "      document.body.appendChild(div);\n",
              "\n",
              "      const buffers = [];\n",
              "      let downloaded = 0;\n",
              "\n",
              "      const channel = await google.colab.kernel.comms.open(id);\n",
              "      // Send a message to notify the kernel that we're ready.\n",
              "      channel.send({})\n",
              "\n",
              "      for await (const message of channel.messages) {\n",
              "        // Send a message to notify the kernel that we're ready.\n",
              "        channel.send({})\n",
              "        if (message.buffers) {\n",
              "          for (const buffer of message.buffers) {\n",
              "            buffers.push(buffer);\n",
              "            downloaded += buffer.byteLength;\n",
              "            progress.value = downloaded;\n",
              "          }\n",
              "        }\n",
              "      }\n",
              "      const blob = new Blob(buffers, {type: 'application/binary'});\n",
              "      const a = document.createElement('a');\n",
              "      a.href = window.URL.createObjectURL(blob);\n",
              "      a.download = filename;\n",
              "      div.appendChild(a);\n",
              "      a.click();\n",
              "      div.remove();\n",
              "    }\n",
              "  "
            ]
          },
          "metadata": {}
        },
        {
          "output_type": "display_data",
          "data": {
            "text/plain": [
              "<IPython.core.display.Javascript object>"
            ],
            "application/javascript": [
              "download(\"download_44b38774-d4a9-4d5b-b9a4-e2fa042047b0\", \"app.py\", 3877)"
            ]
          },
          "metadata": {}
        },
        {
          "output_type": "display_data",
          "data": {
            "text/plain": [
              "<IPython.core.display.Javascript object>"
            ],
            "application/javascript": [
              "\n",
              "    async function download(id, filename, size) {\n",
              "      if (!google.colab.kernel.accessAllowed) {\n",
              "        return;\n",
              "      }\n",
              "      const div = document.createElement('div');\n",
              "      const label = document.createElement('label');\n",
              "      label.textContent = `Downloading \"${filename}\": `;\n",
              "      div.appendChild(label);\n",
              "      const progress = document.createElement('progress');\n",
              "      progress.max = size;\n",
              "      div.appendChild(progress);\n",
              "      document.body.appendChild(div);\n",
              "\n",
              "      const buffers = [];\n",
              "      let downloaded = 0;\n",
              "\n",
              "      const channel = await google.colab.kernel.comms.open(id);\n",
              "      // Send a message to notify the kernel that we're ready.\n",
              "      channel.send({})\n",
              "\n",
              "      for await (const message of channel.messages) {\n",
              "        // Send a message to notify the kernel that we're ready.\n",
              "        channel.send({})\n",
              "        if (message.buffers) {\n",
              "          for (const buffer of message.buffers) {\n",
              "            buffers.push(buffer);\n",
              "            downloaded += buffer.byteLength;\n",
              "            progress.value = downloaded;\n",
              "          }\n",
              "        }\n",
              "      }\n",
              "      const blob = new Blob(buffers, {type: 'application/binary'});\n",
              "      const a = document.createElement('a');\n",
              "      a.href = window.URL.createObjectURL(blob);\n",
              "      a.download = filename;\n",
              "      div.appendChild(a);\n",
              "      a.click();\n",
              "      div.remove();\n",
              "    }\n",
              "  "
            ]
          },
          "metadata": {}
        },
        {
          "output_type": "display_data",
          "data": {
            "text/plain": [
              "<IPython.core.display.Javascript object>"
            ],
            "application/javascript": [
              "download(\"download_abb112fa-92de-4032-9148-2bffd8f29472\", \"food.db\", 319488)"
            ]
          },
          "metadata": {}
        }
      ]
    },
    {
      "cell_type": "markdown",
      "source": [
        "#  Step 6: Deployment  \n",
        "Finally, we prepare the app for deployment:  \n",
        "- **Local Deployment**: Run `streamlit run app.py` from CMD with `food.db` in the same folder.  \n",
        "- **Cloud Deployment (Future Scope)**: Host on **Streamlit Cloud, Heroku, or AWS** for real-time access.  \n",
        "\n",
        " Why?  \n",
        "Deployment ensures the system is accessible to end-users like restaurants, NGOs, and individuals who need to coordinate food distribution.  \n",
        "\n",
        "\n",
        "#  Future Scope  \n",
        "While this project successfully demonstrates a working prototype of a Local Food Wastage Management System, there are several opportunities for enhancement:  \n",
        "- **Real-time Data Collection:** Integrating mobile/web forms for providers to add surplus food instantly.  \n",
        "- **Geolocation Services:** Using Google Maps API to display providers and receivers on a map for optimized food distribution.  \n",
        "- **Predictive Analytics:** Applying machine learning models to forecast food wastage trends and demand.  \n",
        "- **Multi-user Authentication:** Adding role-based access for providers, receivers, and administrators.  \n",
        "- **Cloud Deployment:** Hosting the application on cloud platforms like AWS, Heroku, or Streamlit Cloud for greater scalability.  \n"
      ],
      "metadata": {
        "id": "eXBMD7iwmbpX"
      }
    },
    {
      "cell_type": "code",
      "source": [],
      "metadata": {
        "id": "0Blvpx2yjBPA"
      },
      "execution_count": null,
      "outputs": []
    }
  ]
}